{
 "cells": [
  {
   "cell_type": "markdown",
   "metadata": {},
   "source": [
    "# The Battle of Neighborhoods "
   ]
  },
  {
   "cell_type": "markdown",
   "metadata": {},
   "source": [
    "### Week 4 : Part 1"
   ]
  },
  {
   "cell_type": "markdown",
   "metadata": {},
   "source": [
    "# ***Location Recommender System for Restaurants in Toronto***"
   ]
  },
  {
   "cell_type": "markdown",
   "metadata": {},
   "source": [
    "### Introduction\n",
    "\n",
    "   There are many entrepreneurs out there looking to start a new restaurant or expand their growing business. The first and most important question that pops up in their minds \"where do i start a restaurant?\" or \"which is most suitable neighborhood thats going to profit the business?\". To answer this question we need data. And by data i mean lots and lots of it. This project basically analyses the data that i collected/web scrapped from websites and the data from Fore-sqaure API. With all of the collected data i aim to find the best suited location i.e Neighborhood in Toronto, Canada to start a restaurant to add up to the newly started or booming entrepreneur's business. "
   ]
  },
  {
   "cell_type": "markdown",
   "metadata": {},
   "source": [
    "## Problem Description:\n",
    "#### In simple words \"What is the best location to start a restaurant business in Toronto City, Canada?\"\n",
    "Have you ever decided to start a restaurant, only to discover that the there is no enough customers to keep the business running with profits?\n",
    "Consider all the important,related and required factors and determine the perfect location to start a resturant in the city of Toronto!\n"
   ]
  },
  {
   "cell_type": "markdown",
   "metadata": {},
   "source": [
    "## Problem Background:"
   ]
  },
  {
   "cell_type": "markdown",
   "metadata": {},
   "source": [
    "While choosing a much less or sparsely populated Neighborhood and much less visited Neighborhood, it might save you on rent, but that is not going to result in profits. Only setting up your restaurant in the crowded and densely populated neighborhood is going to popularize your name through the ears of the city.\n",
    "\n",
    "Thus there are some **important factors** to be considered, which we will be using to determine the best suited location!\n",
    "\n",
    "- **Demographics (Population and Density)**\n",
    "- **Access and Visibility (Placing restaurant in crowded areas)**\n",
    "- **Proximity to suppliers**\n",
    "- **Competition (A double edged sword!)**"
   ]
  }
 ],
 "metadata": {
  "kernelspec": {
   "display_name": "Python 3",
   "language": "python",
   "name": "python3"
  },
  "language_info": {
   "codemirror_mode": {
    "name": "ipython",
    "version": 3
   },
   "file_extension": ".py",
   "mimetype": "text/x-python",
   "name": "python",
   "nbconvert_exporter": "python",
   "pygments_lexer": "ipython3",
   "version": "3.7.6"
  }
 },
 "nbformat": 4,
 "nbformat_minor": 4
}
